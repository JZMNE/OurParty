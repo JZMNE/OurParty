{
 "cells": [
  {
   "cell_type": "code",
   "execution_count": null,
   "metadata": {},
   "outputs": [],
   "source": [
    "# Print all keys\n",
    "print(aDict.keys())\n",
    "\n",
    "# Print all values\n",
    "print(aDict.values())\n",
    "\n",
    "# Print all key/value pairs\n",
    "print(aDict.items())"
   ]
  },
  {
   "cell_type": "code",
   "execution_count": null,
   "metadata": {},
   "outputs": [],
   "source": []
  }
 ],
 "metadata": {
  "language_info": {
   "name": "python"
  },
  "orig_nbformat": 4
 },
 "nbformat": 4,
 "nbformat_minor": 2
}
